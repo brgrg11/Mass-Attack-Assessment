{
  "nbformat": 4,
  "nbformat_minor": 0,
  "metadata": {
    "colab": {
      "provenance": []
    },
    "kernelspec": {
      "name": "python3",
      "display_name": "Python 3"
    },
    "language_info": {
      "name": "python"
    }
  },
  "cells": [
    {
      "cell_type": "code",
      "execution_count": null,
      "metadata": {
        "id": "UKerfTe4E7tv"
      },
      "outputs": [],
      "source": [
        "import os\n",
        "from google.colab import drive\n",
        "drive.mount('/content/drive/')\n",
        "os.chdir(\"/content/drive/My Drive/\")"
      ]
    },
    {
      "cell_type": "code",
      "source": [
        "# install all the packages we're going to need.\n",
        "import pandas as pd\n",
        "import numpy as np\n",
        "! pip install --upgrade tables\n",
        "import scipy.stats\n",
        "import statsmodels.stats.weightstats as sms\n",
        "import statsmodels.formula.api as smf\n",
        "import statsmodels.api as sm\n",
        "import seaborn as sns\n",
        "import matplotlib as plt"
      ],
      "metadata": {
        "id": "JTHVL884TAGs"
      },
      "execution_count": null,
      "outputs": []
    },
    {
      "cell_type": "code",
      "source": [
        "guns_df = pd.read_csv(\"thebleak13s1.csv\", sep=\",\", names = ['case', 'location', 'city', 'state', 'date', 'summary', 'fatalities', 'injured', 'total_victims', 'location_2', 'age_of_shooter','prior_signs_mental_health_issues', 'mental_health_details', 'weapons_obtained_legally', 'where_obtained', 'weapon_type', 'weapon_details', 'race', 'gender', 'sources', 'mental_health_sources', 'sources_additional_age', 'latitude', 'longitude', 'type','year'], engine= 'c')"
      ],
      "metadata": {
        "id": "iJug22JqqSzy"
      },
      "execution_count": null,
      "outputs": []
    },
    {
      "cell_type": "code",
      "source": [
        "guns_df.head()\n",
        "\n"
      ],
      "metadata": {
        "id": "_ouymQFCudva"
      },
      "execution_count": null,
      "outputs": []
    },
    {
      "cell_type": "code",
      "source": [
        "guns_df.tail()"
      ],
      "metadata": {
        "id": "ldxKcSYGwCz3"
      },
      "execution_count": null,
      "outputs": []
    },
    {
      "cell_type": "code",
      "source": [
        "guns_df['state'].value_counts()"
      ],
      "metadata": {
        "id": "42QMhwAWxKzj"
      },
      "execution_count": null,
      "outputs": []
    },
    {
      "cell_type": "code",
      "source": [
        "guns_df['location_2'].value_counts()"
      ],
      "metadata": {
        "id": "kmQxthcqxejV"
      },
      "execution_count": null,
      "outputs": []
    },
    {
      "cell_type": "code",
      "source": [
        "guns_df.describe()"
      ],
      "metadata": {
        "id": "YReRxdrgxeZK"
      },
      "execution_count": null,
      "outputs": []
    },
    {
      "cell_type": "markdown",
      "source": [
        "# Module 3/4"
      ],
      "metadata": {
        "id": "atS3Sb2bQ4yo"
      }
    },
    {
      "cell_type": "code",
      "execution_count": null,
      "metadata": {
        "id": "tf_q9SjXIIpy"
      },
      "outputs": [],
      "source": [
        "# Type of weapon (gun)\n",
        "gun_type = ['derringer','rifle', 'semiautomatic handgun','semiautomatic pistol', 'semiautomatic rifle']\n",
        "\n",
        "print(gun_type)"
      ]
    },
    {
      "cell_type": "code",
      "source": [
        "# Type of weapon (non-gun)\n",
        "weapon_type = ['knife']\n",
        "# Combined weapon types\n",
        "all_weapons = gun_type + weapon_type\n",
        "\n",
        "print(all_weapons)"
      ],
      "metadata": {
        "id": "z2u6POBAMZsc"
      },
      "execution_count": null,
      "outputs": []
    },
    {
      "cell_type": "code",
      "source": [
        "# What would these lists look like as tuples?\n",
        "gun_type_tuple = ('derringer','rifle', 'semiautomatic handgun','semiautomatic pistol', 'semiautomatic rifle')\n",
        "\n",
        "print(gun_type_tuple)"
      ],
      "metadata": {
        "id": "xGynRaoiQL-Q"
      },
      "execution_count": null,
      "outputs": []
    },
    {
      "cell_type": "code",
      "source": [
        "weapon_type_tuple = ('knife')\n",
        "\n",
        "print(weapon_type_tuple)"
      ],
      "metadata": {
        "id": "BKwNY-sXQk0-"
      },
      "execution_count": null,
      "outputs": []
    },
    {
      "cell_type": "code",
      "source": [
        "# How many types of gun in the dataset?\n",
        "len(gun_type)"
      ],
      "metadata": {
        "id": "4p-KzYNqNnhZ"
      },
      "execution_count": null,
      "outputs": []
    },
    {
      "cell_type": "code",
      "source": [
        "# How many weapons were not guns?\n",
        "len(weapon_type)"
      ],
      "metadata": {
        "id": "Hd4QBYK1PDNT"
      },
      "execution_count": null,
      "outputs": []
    },
    {
      "cell_type": "code",
      "source": [
        "# How many types of weapon are in this dataset?\n",
        "len(all_weapons)"
      ],
      "metadata": {
        "id": "G7ePO64xPDpj"
      },
      "execution_count": null,
      "outputs": []
    },
    {
      "cell_type": "code",
      "source": [
        "# What is the first type of weapon in our alphabetical list?\n",
        "all_weapons[0:1]"
      ],
      "metadata": {
        "id": "MTvjSfR2PO8c"
      },
      "execution_count": null,
      "outputs": []
    },
    {
      "cell_type": "code",
      "source": [
        "# Need more information on derringers? Try this dictionary.\n",
        "derringer = {\n",
        "    'Name': 'Deringer',\n",
        "    'Description': 'A derringer is a small type of handgun. It is generally considered as the smallest usable handgun.'\n",
        "}\n",
        "derringer"
      ],
      "metadata": {
        "id": "QPnVClhgQGKW"
      },
      "execution_count": null,
      "outputs": []
    },
    {
      "cell_type": "code",
      "source": [
        "derringer.keys()"
      ],
      "metadata": {
        "id": "WAZUydJzSnYO"
      },
      "execution_count": null,
      "outputs": []
    },
    {
      "cell_type": "code",
      "source": [
        "# There was a typo in my dictionary somewhere...\n",
        "derringer['Name'] = \"Derringer\"\n",
        "derringer"
      ],
      "metadata": {
        "id": "1ohexz7wTOUh"
      },
      "execution_count": null,
      "outputs": []
    },
    {
      "cell_type": "code",
      "source": [
        "guns_df['weapon_type'].value_counts()"
      ],
      "metadata": {
        "id": "78MwWDUOital"
      },
      "execution_count": null,
      "outputs": []
    },
    {
      "cell_type": "code",
      "source": [
        "# How many attackers used knives?\n",
        "knife_attacks = 1\n",
        "\n",
        "if knife_attacks > 2:\n",
        "  print(knife_attacks, \"attackers used knives. That is more than the number of attackers who used derringers.\")\n",
        "elif knife_attacks == 1 :\n",
        "  print(knife_attacks, \"attacker used a knife. That is less than the amount of attackers who used derringers and less than the amount of attackers who used guns.\")\n",
        "else:\n",
        "  print(knife_attacks, \"is the number of attackers who used knives during their assault.\")"
      ],
      "metadata": {
        "id": "_p55bXagT_Sc"
      },
      "execution_count": null,
      "outputs": []
    },
    {
      "cell_type": "code",
      "source": [
        "# When did the knife attack occur?\n",
        "\n",
        "knife_years = ['2014']\n",
        "\n",
        "for years in knife_years:\n",
        "  print('A victim was wounded by a butcher knife in the year ' + years + \".\")"
      ],
      "metadata": {
        "id": "e2zayxtYC9MK"
      },
      "execution_count": null,
      "outputs": []
    },
    {
      "cell_type": "code",
      "source": [
        "# What about derringer attacks?\n",
        "\n",
        "derringer_years = ['1998', '1999', '2000', '2001', '2002', '2003','2004']\n",
        "\n",
        "for deryears in derringer_years:\n",
        "   if deryears == '1999':\n",
        "     print('One derringer attack occured in the year ' + deryears + '.')\n",
        "     continue\n",
        "   if deryears == '2003':\n",
        "     print('Another would occur during ' + deryears +'.')\n",
        "     break"
      ],
      "metadata": {
        "id": "uPYBmu8WDk5m"
      },
      "execution_count": null,
      "outputs": []
    },
    {
      "cell_type": "code",
      "source": [
        "# In the past ten years, which years were semi-automatic weapons used during attacks?\n",
        "\n",
        "gun_years = 1990\n",
        "\n",
        "while (gun_years < 2023):\n",
        "    print (gun_years)\n",
        "    gun_years = gun_years + 1"
      ],
      "metadata": {
        "id": "xPV3a0mCD154"
      },
      "execution_count": null,
      "outputs": []
    },
    {
      "cell_type": "code",
      "source": [
        "# We could also use range to describe this.\n",
        "\n",
        "for x in range(1990,2022):\n",
        "  print(x)"
      ],
      "metadata": {
        "id": "SIWxv8wtD-zo"
      },
      "execution_count": null,
      "outputs": []
    },
    {
      "cell_type": "code",
      "source": [
        "# Moving on... Let's calculate the slope.\n",
        "\n",
        "def slope(year1, year2, victims1, victims2):\n",
        "  '''A slope function that uses years as the independent variable and\n",
        "  number of victims as the dependent variable to estimate the rate of change (roc) over time.\n",
        "  '''\n",
        "  rise = year2-year1\n",
        "  run = victims2-victims1\n",
        "  roc = rise/run\n",
        "  return roc"
      ],
      "metadata": {
        "id": "1E-Fj9MLEAwW"
      },
      "execution_count": null,
      "outputs": []
    },
    {
      "cell_type": "code",
      "source": [
        "# Using the two rows in the dataset (total_victims):\n",
        "slope(2001, 2003, 9, 15)"
      ],
      "metadata": {
        "id": "NI7_FMngEBTU"
      },
      "execution_count": null,
      "outputs": []
    },
    {
      "cell_type": "markdown",
      "source": [
        "# Module 5/6"
      ],
      "metadata": {
        "id": "rRb_v3tzqFn3"
      }
    },
    {
      "cell_type": "markdown",
      "source": [
        "The hypotheses are as follows:\n",
        "1) Most mass shootings involve semiautomatic weapons.\n",
        "2) Mass shootings have increased with year since 1982.\n",
        "3) Total victim number increases with semiautomatic weapons.\n",
        "4) Total victim number has increased with year."
      ],
      "metadata": {
        "id": "Fa4px14zY46U"
      }
    },
    {
      "cell_type": "code",
      "source": [
        "guns_df = pd.read_csv(\"thebleak13s1.csv\") # read in CSV file. Note, for some reason, it doesn't work with the engine."
      ],
      "metadata": {
        "id": "nNZa3KQddJUY"
      },
      "execution_count": null,
      "outputs": []
    },
    {
      "cell_type": "code",
      "source": [
        "guns_df.head() # view top few lines of the df"
      ],
      "metadata": {
        "id": "VJBoK-WpdSih"
      },
      "execution_count": null,
      "outputs": []
    },
    {
      "cell_type": "code",
      "source": [
        "redgun_df = guns_df[['total_victims', 'weapon_type', 'year']] # Subset df by choosing only columns of interest, based on hypotheses\n",
        "redgun_df # View subsetted df"
      ],
      "metadata": {
        "id": "y-91hwcPk18I"
      },
      "execution_count": null,
      "outputs": []
    },
    {
      "cell_type": "code",
      "source": [
        "redgun_df.describe() # descriptive summary of df"
      ],
      "metadata": {
        "id": "t9zh47XqmDAQ"
      },
      "execution_count": null,
      "outputs": []
    },
    {
      "cell_type": "code",
      "source": [
        "redgun1_df = redgun_df[redgun_df['total_victims'] < 600] # we have a crazy outlier so let's delete that.\n",
        "redgun1_df.describe()"
      ],
      "metadata": {
        "id": "qGj0PC-CllYs"
      },
      "execution_count": null,
      "outputs": []
    },
    {
      "cell_type": "code",
      "source": [
        "redgun1_df['total_victims'].skew() #Here, we are assessing the distribution of the data. This has a positive skew."
      ],
      "metadata": {
        "id": "CZYh-FfFdmbD"
      },
      "execution_count": null,
      "outputs": []
    },
    {
      "cell_type": "code",
      "source": [
        "redgun1_df['year'].skew() #Same as above. This has a negative skew."
      ],
      "metadata": {
        "id": "1_gKAsVtdgYn"
      },
      "execution_count": null,
      "outputs": []
    },
    {
      "cell_type": "code",
      "source": [
        "sns.pairplot(redgun1_df) # View pairwise bivariate distributions\n",
        "\n",
        "\"\"\"These data do not appear to be normally distributed.\"\"\""
      ],
      "metadata": {
        "id": "t4MOIc7tfWKg"
      },
      "execution_count": null,
      "outputs": []
    },
    {
      "cell_type": "code",
      "source": [
        "r, p = scipy.stats.pearsonr(redgun1_df['year'], redgun1_df['total_victims'])\n",
        "print(f\"Your correlation coefficient is {r} with a pval of {p}\") # Assessing correlation between year and total victims.\n",
        "\n",
        "\"\"\"Year and number of victims do not appear to be correlated.\"\"\""
      ],
      "metadata": {
        "id": "Zq0i1bdwdk2r"
      },
      "execution_count": null,
      "outputs": []
    },
    {
      "cell_type": "code",
      "source": [
        "team2_plot1 = sns.relplot(x=\"year\", y=\"total_victims\", data=redgun1_df)\n",
        "team2_plot1.savefig(\"team2_plot1.png\") # total victims plotted against year."
      ],
      "metadata": {
        "id": "GqG58gvwdi-F"
      },
      "execution_count": null,
      "outputs": []
    },
    {
      "cell_type": "code",
      "source": [
        "redgun2_df = redgun1_df[redgun1_df['weapon_type'].str.contains('One')] # source: https://www.geeksforgeeks.org/select-rows-that-contain-specific-text-using-pandas/\n",
        "\n",
        "\"\"\"select only the weapon_types containing the word One.\n",
        "There are a lot of combintaion weapons in here, with different numbers. In order to standardize our results, we're only\n",
        "including data in which one gun was used.\"\"\"\n",
        "\n",
        "redgun3_df = redgun2_df[redgun2_df[\"weapon_type\"].str.contains(\"one|two|three|five\") == False] # source: https://www.geeksforgeeks.org/how-to-drop-rows-that-contain-a-specific-string-in-pandas/\n",
        "\n",
        "\"\"\"Now, we still have some combination weapons, such as One semiautomatic rifle, two handguns. Here, we are getting rid of the\n",
        "remaining combinations associated with One weapon, so we don't want anything containing the phrases one, two, three or five.\"\"\"\n",
        "\n",
        "redgun3_df # View subsetted df"
      ],
      "metadata": {
        "id": "QC6QcitDkZJi"
      },
      "execution_count": null,
      "outputs": []
    },
    {
      "cell_type": "code",
      "source": [
        "semi_df = redgun3_df[redgun3_df['weapon_type'].str.contains('One semiautomatic')] # Choose rows with semiautomatic weapons\n",
        "not_semi_df = redgun3_df[redgun3_df[\"weapon_type\"].str.contains(\"One semiautomatic\") == False] # Choose rows without semiautomatic weapons\n",
        "t2, p2 = scipy.stats.mannwhitneyu(semi_df[\"total_victims\"],not_semi_df[\"total_victims\"])\n",
        "\n",
        "\"\"\"Given that the data is likely not normally distributed, we will run a nonparametric two-sample t test, comparing the mean total victims\n",
        "in mass shooting with semiautomatics to those without semiautomatics.\"\"\"\n",
        "\n",
        "print(f\"Your t-statistic is {t2} with a pval of {p2}\") # These means are significantly different."
      ],
      "metadata": {
        "id": "fazBXJOffDFG"
      },
      "execution_count": null,
      "outputs": []
    },
    {
      "cell_type": "code",
      "source": [
        "semi_df['weapon_type_binary'] = 'semiautomatic' # add a \"semiautomatic\" column to the semiautomatic slice of our df\n",
        "semi_df['binary'] = 1 # add a column of \"1s\" to our semiautomatic slice\n",
        "not_semi_df ['weapon_type_binary'] = 'not_semiautomatic' # add a \"not_semiautomatic\" column to the not semiautomatic slice of our df\n",
        "not_semi_df['binary'] = 0 # add a column of \"0s\" to our not semiautomatic slice\n",
        "\n",
        "catsem = [semi_df, not_semi_df] # create list of slices\n",
        "redgun3_df_cat = pd.concat(catsem) #concatonate slices with the new columns\n",
        "redgun3_df_cat # view concatonated df\n",
        "\n",
        "team2_plot2 = sns.catplot(x=\"weapon_type_binary\", y=\"total_victims\", kind=\"violin\", data=redgun3_df_cat)\n",
        "team2_plot2.savefig(\"team2_plot2.png\")\n",
        "\n",
        "\"\"\"Make violin plot comparing total victims in mass shootings with semiautomatic vs without semiautomatic weapons.\n",
        "The total number of victims increased with the use of semiautomatic weapons.\"\"\""
      ],
      "metadata": {
        "id": "9HjrgTlAK3oQ"
      },
      "execution_count": null,
      "outputs": []
    },
    {
      "cell_type": "code",
      "source": [
        "z, p = sms.ztest(redgun1_df['year']) # compare frequency of shootings per year.\n",
        "\n",
        "\"\"\"Note: Using the df including combination weapons here, not the slice with the single weapons only.\"\"\"\n",
        "\n",
        "print(f\"Your z-statistic is {z} with a pval of {p}\") # The frequencies vary with year."
      ],
      "metadata": {
        "id": "zRe5pkM0PiNR"
      },
      "execution_count": null,
      "outputs": []
    },
    {
      "cell_type": "code",
      "source": [
        "team2_plot3 = sns.catplot(x=\"year\", kind=\"count\", palette=\"ch:.25\", data=redgun1_df) # barplot of frequencies for each year\n",
        "team2_plot3.set_xticklabels(rotation=90) #rotate axis labels. https://drawingfromdata.com/seaborn/matplotlib/visualization/rotate-axis-labels-matplotlib-seaborn.html\n",
        "team2_plot3.savefig(\"team2_plot3.png\")"
      ],
      "metadata": {
        "id": "3W_KtZvrOFDt"
      },
      "execution_count": null,
      "outputs": []
    },
    {
      "cell_type": "code",
      "source": [
        "z, p = sms.ztest(redgun3_df_cat['binary']) # z test comparing frequencies of shootings with and without semiautomatic weapons.\n",
        "print(f\"Your z-statistic is {z} with a pval of {p}\") # frequencies differ between weapon type."
      ],
      "metadata": {
        "id": "zzRhtUUKZYpb"
      },
      "execution_count": null,
      "outputs": []
    },
    {
      "cell_type": "code",
      "source": [
        "team2_plot4 = sns.catplot(x=\"weapon_type_binary\", kind=\"count\", palette=\"icefire\", data=redgun3_df_cat) #from https://seaborn.pydata.org/tutorial/color_palettes.html\n",
        "team2_plot4.savefig(\"team2_plot4.png\")\n",
        "\n",
        "\"\"\" barplot of frequencies for semiautomatic and non semiautomatic weapons.\"\"\""
      ],
      "metadata": {
        "id": "dN1yQQdEXPeA"
      },
      "execution_count": null,
      "outputs": []
    },
    {
      "cell_type": "code",
      "source": [
        "model = \"total_victims ~ year + weapon_type_binary\" # Fit total victims as response variable and year and weapon type as explanatory\n",
        "res = smf.glm(formula=model, family=sm.families.Gaussian(), data=redgun3_df_cat).fit()\n",
        "print(res.summary())\n",
        "\n",
        "\"\"\"GLM with a gaussian distribution using the specified model. Making Gaussian assumption with model; have not looked at qq plot of residuals.\n",
        "Year is not significant; weapon type is marginally nonsignificant.\"\"\""
      ],
      "metadata": {
        "id": "yJUwNlUFX8am"
      },
      "execution_count": null,
      "outputs": []
    }
  ]
}